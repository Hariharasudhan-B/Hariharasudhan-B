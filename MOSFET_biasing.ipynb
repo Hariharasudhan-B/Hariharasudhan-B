{
  "nbformat": 4,
  "nbformat_minor": 0,
  "metadata": {
    "colab": {
      "provenance": [],
      "include_colab_link": true
    },
    "kernelspec": {
      "name": "python3",
      "display_name": "Python 3"
    },
    "language_info": {
      "name": "python"
    }
  },
  "cells": [
    {
      "cell_type": "markdown",
      "metadata": {
        "id": "view-in-github",
        "colab_type": "text"
      },
      "source": [
        "<a href=\"https://colab.research.google.com/github/Hariharasudhan-B/Hariharasudhan-B/blob/main/MOSFET_biasing.ipynb\" target=\"_parent\"><img src=\"https://colab.research.google.com/assets/colab-badge.svg\" alt=\"Open In Colab\"/></a>"
      ]
    },
    {
      "cell_type": "code",
      "execution_count": null,
      "metadata": {
        "colab": {
          "base_uri": "https://localhost:8080/"
        },
        "id": "EiIMI8hyny-J",
        "outputId": "d1be7278-92c4-4f76-fd1f-282246114bd8"
      },
      "outputs": [
        {
          "metadata": {
            "tags": null
          },
          "name": "stdout",
          "output_type": "stream",
          "text": [
            "Choose MOSFET Biasing Configuration:\n",
            "1.Fixed Bias Configuration\n",
            "2.Voltage Divider Bias Configuration\n",
            "3.Exit\n",
            "Voltage across Drain and Source(Vds) : -15.0 V\n",
            "Choose MOSFET Biasing Configuration:\n",
            "1.Fixed Bias Configuration\n",
            "2.Voltage Divider Bias Configuration\n",
            "3.Exit\n",
            "Voltage across Gate and Source(Vgs) : -11.818181818181818V\n",
            "Voltage across Drain and Source(Vds) : -9.0V\n",
            "Choose MOSFET Biasing Configuration:\n",
            "1.Fixed Bias Configuration\n",
            "2.Voltage Divider Bias Configuration\n",
            "3.Exit\n"
          ]
        }
      ],
      "source": [
        "def Fixed_Bias_configuration(Vdd,Id,Rs):\n",
        "  Vds=Vdd-(Id*Rs)\n",
        "  return Vds\n",
        "\n",
        "def Voltage_Divider_Bias_Configuration(Vdd,R1,R2,Is,Id,Rs,Rd):\n",
        "  Vg=(R2*Vdd)/(R1+R2)\n",
        "  Vgs=Vg-(Is*Rs)\n",
        "  Vds=Vdd-Id*(Rd+Rs)\n",
        "  return Vgs,Vds\n",
        "\n",
        "while True:\n",
        "  print(\"Choose MOSFET Biasing Configuration:\")\n",
        "  print(\"1.Fixed Bias Configuration\")\n",
        "  print(\"2.Voltage Divider Bias Configuration\")\n",
        "  print(\"3.Exit\")\n",
        "\n",
        "  choice = input(\"Enter the Configuration Number:\")\n",
        "\n",
        "  if choice == \"3.Exit\":\n",
        "    break\n",
        "\n",
        "    Vdd=float(input(\"Enter Vdd=\"))\n",
        "    Id=float(input(\"Enter Id=\"))\n",
        "    Rs=float(input(\"Enter Rs=\"))\n",
        "    R1=float(input(\"Enter R1=\"))\n",
        "    R2=float(input(\"Enter R2=\"))\n",
        "    Is=float(input(\"Enter Is=\"))\n",
        "    Rs=float(input(\"Enter Rs=\"))\n",
        "    Rd=float(input(\"Enter Rd=\"))\n",
        "\n",
        "  if choice == \"1.Fixed Bias Configuration\":\n",
        "    Vdd=float(input(\"Enter Vdd=\"))\n",
        "    Id=float(input(\"Enter Id=\"))\n",
        "    Rs=float(input(\"Enter Rs=\"))\n",
        "    V6ds = Fixed_Bias_configuration(Vdd,Id,Rs)\n",
        "    print(f\"Voltage across Drain and Source(Vds) : {Vds} V\")\n",
        "\n",
        "  elif choice == \"2.Voltage Divider Bias Configuration\":\n",
        "    Vdd=float(input(\"Enter Vdd=\"))\n",
        "    R1=float(input(\"Enter R1=\"))\n",
        "    R2=float(input(\"Enter R2=\"))\n",
        "    Is=float(input(\"Enter Is=\"))\n",
        "    Id=float(input(\"Enter Id=\"))\n",
        "    Rs=float(input(\"Enter Rs=\"))\n",
        "    Rd=float(input(\"Enter Rd=\"))\n",
        "    Vgs,Vds = Voltage_Divider_Bias_Configuration(Vdd,R1,R2,Is,Id,Rs,Rd)\n",
        "    print(f\"Voltage across Gate and Source(Vgs) : {Vgs}V\")\n",
        "    print(f\"Voltage across Drain and Source(Vds) : {Vds}V\")\n",
        "  else:\n",
        "    Print(\"Invalid choice.Please enter the valid Choice.\")\n",
        "    continue\n",
        "\n",
        "    print(f\"Voltage across Drain and Source(Vds) : {Vds}V\")\n"
      ]
    }
  ]
}