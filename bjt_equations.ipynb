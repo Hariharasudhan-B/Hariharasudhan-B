{
  "cells": [
    {
      "cell_type": "markdown",
      "metadata": {
        "id": "view-in-github",
        "colab_type": "text"
      },
      "source": [
        "<a href=\"https://colab.research.google.com/github/Hariharasudhan-B/Hariharasudhan-B/blob/main/bjt_equations.ipynb\" target=\"_parent\"><img src=\"https://colab.research.google.com/assets/colab-badge.svg\" alt=\"Open In Colab\"/></a>"
      ]
    },
    {
      "cell_type": "code",
      "execution_count": null,
      "metadata": {
        "colab": {
          "background_save": true,
          "base_uri": "https://localhost:8080/"
        },
        "id": "GqpkdbIoa00z",
        "outputId": "76b2fc28-1f14-489a-d204-bf1301f90463"
      },
      "outputs": [
        {
          "output_type": "stream",
          "name": "stdout",
          "text": [
            "Choose BJT Biasing Configuration:\n",
            "1.Fixed Bias Configuration\n",
            "2.Emitter Bias Configuration\n",
            "3.Voltage Divider Bias Configuration\n",
            "4.Collector Feedback Bias Configuration\n",
            "5.Exit\n"
          ]
        }
      ],
      "source": [
        "\n",
        "def Fixed_Bias_Configuration(Vcc,Vbe,Rb,Beta,Rc):\n",
        "   Ib=(Vcc-Vbe)/Rb\n",
        "   Ic=Beta*Ib\n",
        "   Ie=(Beta+1)*Ib\n",
        "   Vce=Vcc-(Ic*Rc)\n",
        "   return Ib,Ic,Ie,Vce\n",
        "def Emitter_Bias_Configuration(Vcc,Vbe,Rb,Beta,Rc,Re):\n",
        "   Ib=(Vcc-Vbe)/(Rb+(Beta+1)*Re)\n",
        "   Ic=Beta*Ib\n",
        "   Ie=(Beta+1)*Ib\n",
        "   Vce=Vcc-(Ic*(Rc+Re))\n",
        "   return Ib,Ic,Ie,Vce\n",
        "def Voltage_Divider_bias_Configuration(Vcc,R1,R2,Vbe,Re,Beta,Rc):\n",
        "   Vb=(R2*Vcc)/(R1+R2)\n",
        "   Ve=Vb-Vbe\n",
        "   Ie=Ve/Re\n",
        "   Ib=Ie/(Beta+1)\n",
        "   Ic=(Beta+1)*Ib\n",
        "   Vce=Vcc-Ic*(Rc+Re)\n",
        "   return Vb,Ve,Ie,Ib,Vc,Vce\n",
        "def Collector_Feedback_Bias_Configuration(Vcc,Vbe,Rf,Beta,Rc,Re):\n",
        "   Ib=(Vcc-Vbe)/(Rf+Beta*(Rc+Re))\n",
        "   Ic=Beta*Ib\n",
        "   Ie=(Beta+1)*Ib\n",
        "   Vce=Vcc-Ic*(Rc+Re)\n",
        "   return Ib,Ic,Ie,Vce\n",
        "\n",
        "while True:\n",
        "   print(\"Choose BJT Biasing Configuration:\")\n",
        "   print(\"1.Fixed Bias Configuration\")\n",
        "   print(\"2.Emitter Bias Configuration\")\n",
        "   print(\"3.Voltage Divider Bias Configuration\")\n",
        "   print(\"4.Collector Feedback Bias Configuration\")\n",
        "   print(\"5.Exit\")\n",
        "\n",
        "   choice = input(\"Enter The Configuration Number:\")\n",
        "\n",
        "\n",
        "   if choice == \"5\":\n",
        "     break\n",
        "\n",
        "     Vcc=float(input(\"Enter Vcc=\"))\n",
        "     Vbe=float(input(\"Enter Vbe=\"))\n",
        "     Rb=float(input(\"Enter Rb=\"))\n",
        "     Beta=float(input(\"Enter Beta=\"))\n",
        "     Rc=float(input(\"Enter Rc=\"))\n",
        "     Re=float(input(\"Enter Re=\"))\n",
        "     Rf=float(input(\"Enter Rf=\"))\n",
        "     R1=float(input(\"Enter R1=\"))\n",
        "     R2=float(input(\"Enter R2=\"))\n",
        "\n",
        "   if choice == \"1.Fixed Bias Configuration\":\n",
        "     Vcc=float(input(\"Enter Vcc=\"))\n",
        "     Vbe=float(input(\"Enter Vbe=\"))\n",
        "     Rb=float(input(\"Enter Rb=\"))\n",
        "     Beta=float(input(\"Enter Beta=\"))\n",
        "     Rc=float(input(\"Enter Rc=\"))\n",
        "     Ib,Ic,Ie,Vce = Fixed_Bias_Configuration(Vcc,Vbe,Rb,Beta,Rc)\n",
        "     print(f\"Collector Current(Ic):{Ic} A\")\n",
        "     print(f\"Base Current(Ib):{Ib} A\")\n",
        "     print(f\"Collectoe-Emitter Voltage(Vce):{Vce} V\")\n",
        "\n",
        "   elif choice == \"2.Emitter Bias Configuration\":\n",
        "     Vcc=float(input(\"Enter Vcc=\"))\n",
        "     Vbe=float(input(\"Enter Vbe=\"))\n",
        "     Rb=float(input(\"Enter Rb=\"))\n",
        "     Beta=float(input(\"Enter Beta=\"))\n",
        "     Rc=float(input(\"Enter Rc=\"))\n",
        "     Re=float(input(\"Enter Re=\"))\n",
        "     Ib,Ic,Ie,Vce = Emitter_Bias_Configuration(Vcc,Vbe,Rb,Beta,Rc,Re)\n",
        "     print(f\"Collector Current(Ic):{Ic} A\")\n",
        "     print(f\"Base Current(Ib):{Ib} A\")\n",
        "     print(f\"Collectoe-Emitter Voltage(Vce):{Vce} V\")\n",
        "\n",
        "   elif choice == \"3.Voltage Divider Bias Configuration\":\n",
        "     Vcc=float(input(\"Enter Vcc=\"))\n",
        "     Vbe=float(input(\"Enter Vbe=\"))\n",
        "     Rb=float(input(\"Enter Rb=\"))\n",
        "     Beta=float(input(\"Enter Beta=\"))\n",
        "     Rc=float(input(\"Enter Rc=\"))\n",
        "     Re=float(input(\"Enter Re=\"))\n",
        "     R1=float(input(\"Enter R1=\"))\n",
        "     R2=float(input(\"Enter R2=\"))\n",
        "     Vb,Ve,Ie,Ib,Ic,Vce = Voltage_Divider_bias_Configuration(Vcc,R1,R2,Vbe,Re,Beta,Rc,Re)\n",
        "     print(f\"Collector Current(Ic):{Ic} A\")\n",
        "     print(f\"Base Current(Ib):{Ib} A\")\n",
        "     print(f\"Collectoe-Emitter Voltage(Vce):{Vce} V\")\n",
        "\n",
        "   elif choice == \"4.Collector Feedback Bias Configuration\":\n",
        "     Vcc=float(input(\"Enter Vcc=\"))\n",
        "     Vbe=float(input(\"Enter Vbe=\"))\n",
        "     Beta=float(input(\"Enter Beta=\"))\n",
        "     Rc=float(input(\"Enter Rc=\"))\n",
        "     Re=float(input(\"Enter Re=\"))\n",
        "     Rf=float(input(\"Enter Rf=\"))\n",
        "     Ib,Ic,Ie,Vce = Collector_Feedback_Bias_Configuration(Vcc,Vbe,Rf,Beta,Rc,Re)\n",
        "     print(f\"Collector Current(Ic):{Ic} A\")\n",
        "     print(f\"Base Current(Ib):{Ib} A\")\n",
        "     print(f\"Collectoe-Emitter Voltage(Vce):{Vce} V\")\n",
        "\n",
        "   else:\n",
        "    print(\"Invalid choice.Please enter the valid choice.\")\n",
        "    continue\n",
        "\n",
        "    print(f\"Collector Current(Ic):{Ic} A\")\n",
        "    print(f\"Base Current(Ib):{Ib} A\")\n",
        "    print(f\"Collectoe-Emitter Voltage(Vce):{Vce} V\")"
      ]
    }
  ],
  "metadata": {
    "colab": {
      "provenance": [],
      "include_colab_link": true
    },
    "kernelspec": {
      "display_name": "Python 3",
      "name": "python3"
    },
    "language_info": {
      "name": "python"
    }
  },
  "nbformat": 4,
  "nbformat_minor": 0
}